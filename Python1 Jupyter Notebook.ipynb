{
 "cells": [
  {
   "cell_type": "code",
   "execution_count": 7,
   "id": "8d9064c5-d500-4d4c-bcd0-304d8d8d5b33",
   "metadata": {},
   "outputs": [],
   "source": [
    "import pandas as pd \n",
    "df = pd.read_csv('C:/Users/vladt/Desktop/Cursuri GoIT Deni/PYTHON/survey_results_public.csv')\n",
    "schema = pd.read_csv('C:/Users/vladt/Desktop/Cursuri GoIT Deni/PYTHON/survey_results_schema.csv')\n"
   ]
  },
  {
   "cell_type": "code",
   "execution_count": 61,
   "id": "078e8410-1c6f-4e96-83b1-9f16d08ca813",
   "metadata": {},
   "outputs": [
    {
     "name": "stdout",
     "output_type": "stream",
     "text": [
      "   ResponseId                      MainBranch                 Age  \\\n",
      "0           1  I am a developer by profession  Under 18 years old   \n",
      "1           2  I am a developer by profession     35-44 years old   \n",
      "2           3  I am a developer by profession     45-54 years old   \n",
      "3           4           I am learning to code     18-24 years old   \n",
      "4           5  I am a developer by profession     18-24 years old   \n",
      "\n",
      "            Employment RemoteWork   Check  \\\n",
      "0  Employed, full-time     Remote  Apples   \n",
      "1  Employed, full-time     Remote  Apples   \n",
      "2  Employed, full-time     Remote  Apples   \n",
      "3   Student, full-time        NaN  Apples   \n",
      "4   Student, full-time        NaN  Apples   \n",
      "\n",
      "                                    CodingActivities  \\\n",
      "0                                              Hobby   \n",
      "1  Hobby;Contribute to open-source projects;Other...   \n",
      "2  Hobby;Contribute to open-source projects;Other...   \n",
      "3                                                NaN   \n",
      "4                                                NaN   \n",
      "\n",
      "                                             EdLevel  \\\n",
      "0                          Primary/elementary school   \n",
      "1       Bachelor’s degree (B.A., B.S., B.Eng., etc.)   \n",
      "2    Master’s degree (M.A., M.S., M.Eng., MBA, etc.)   \n",
      "3  Some college/university study without earning ...   \n",
      "4  Secondary school (e.g. American high school, G...   \n",
      "\n",
      "                                           LearnCode  \\\n",
      "0                             Books / Physical media   \n",
      "1  Books / Physical media;Colleague;On the job tr...   \n",
      "2  Books / Physical media;Colleague;On the job tr...   \n",
      "3  Other online resources (e.g., videos, blogs, f...   \n",
      "4  Other online resources (e.g., videos, blogs, f...   \n",
      "\n",
      "                                     LearnCodeOnline  ... JobSatPoints_7  \\\n",
      "0                                                NaN  ...            NaN   \n",
      "1  Technical documentation;Blogs;Books;Written Tu...  ...            0.0   \n",
      "2  Technical documentation;Blogs;Books;Written Tu...  ...            NaN   \n",
      "3  Stack Overflow;How-to videos;Interactive tutorial  ...            NaN   \n",
      "4  Technical documentation;Blogs;Written Tutorial...  ...            NaN   \n",
      "\n",
      "  JobSatPoints_8 JobSatPoints_9 JobSatPoints_10 JobSatPoints_11  \\\n",
      "0            NaN            NaN             NaN             NaN   \n",
      "1            0.0            0.0             0.0             0.0   \n",
      "2            NaN            NaN             NaN             NaN   \n",
      "3            NaN            NaN             NaN             NaN   \n",
      "4            NaN            NaN             NaN             NaN   \n",
      "\n",
      "            SurveyLength SurveyEase ConvertedCompYearly JobSat  \\\n",
      "0                    NaN        NaN                 NaN    NaN   \n",
      "1                    NaN        NaN                 NaN    NaN   \n",
      "2  Appropriate in length       Easy                 NaN    NaN   \n",
      "3               Too long       Easy                 NaN    NaN   \n",
      "4              Too short       Easy                 NaN    NaN   \n",
      "\n",
      "  worked_with_python  \n",
      "0              False  \n",
      "1               True  \n",
      "2              False  \n",
      "3               True  \n",
      "4               True  \n",
      "\n",
      "[5 rows x 115 columns]\n",
      "      qid       qname                                           question  \\\n",
      "0    QID2  MainBranch  Which of the following options best describes ...   \n",
      "1  QID127         Age                                 What is your age?*   \n",
      "2  QID296  Employment  Which of the following best describes your cur...   \n",
      "3  QID308  RemoteWork  Which best describes your current work situation?   \n",
      "4  QID341       Check  Just checking to make sure you are paying atte...   \n",
      "\n",
      "  force_resp type selector  \n",
      "0       True   MC     SAVR  \n",
      "1       True   MC     SAVR  \n",
      "2       True   MC     MAVR  \n",
      "3      False   MC     SAVR  \n",
      "4       True   MC     SAVR  \n"
     ]
    }
   ],
   "source": [
    "# Primele 5 valori\n",
    "print(df.head())\n",
    "print(schema.head())"
   ]
  },
  {
   "cell_type": "code",
   "execution_count": 59,
   "id": "fcd95646-e960-43f6-b474-fed62c0a2dcc",
   "metadata": {},
   "outputs": [
    {
     "name": "stdout",
     "output_type": "stream",
     "text": [
      "Câți respondenți au completat sondajul?: 65437\n"
     ]
    }
   ],
   "source": [
    "# 1.Câți respondenți au completat sondajul?\n",
    "nr_resp = df.ResponseId.nunique()\n",
    "print(f'Câți respondenți au completat sondajul?: {nr_resp}')"
   ]
  },
  {
   "cell_type": "code",
   "execution_count": 57,
   "id": "06bb74dd-9885-4ec1-8b98-fbc245a8cd74",
   "metadata": {},
   "outputs": [
    {
     "name": "stdout",
     "output_type": "stream",
     "text": [
      "Câți respondenți au răspuns la toate întrebările?: 6306\n"
     ]
    }
   ],
   "source": [
    "# 2.Câți respondenți au răspuns la toate întrebările?\n",
    "questions = set(schema.qname.unique()) & set(df.columns)\n",
    "nr_resp_cmpl = df.dropna(subset=questions).shape[0]\n",
    "print(f'Câți respondenți au răspuns la toate întrebările?: {nr_resp_cmpl}')"
   ]
  },
  {
   "cell_type": "code",
   "execution_count": 55,
   "id": "4f48b705-28ef-4ee8-a538-29c2a25f1561",
   "metadata": {},
   "outputs": [
    {
     "name": "stdout",
     "output_type": "stream",
     "text": [
      "Media: 11.46695663901814\n",
      "Modulul: 0    3.0\n",
      "Name: WorkExp, dtype: float64\n",
      "Mediana: 9.0\n"
     ]
    }
   ],
   "source": [
    "# 3.Care sunt valorile măsurilor de tendință centrală pentru experiența respondenților (WorkExp)?\n",
    "print(f'Media: {df.WorkExp.mean()}')\n",
    "print(f'Modulul: {df.WorkExp.mode()}')\n",
    "print(f'Mediana: {df.WorkExp.median()}')"
   ]
  },
  {
   "cell_type": "code",
   "execution_count": 49,
   "id": "aa5e4f3c-b6e6-4f99-acd9-8bb272d43a8d",
   "metadata": {},
   "outputs": [
    {
     "name": "stdout",
     "output_type": "stream",
     "text": [
      "Câți respondenți lucrează de la distanță?: 20831\n"
     ]
    }
   ],
   "source": [
    "# 4.Câți respondenți lucrează de la distanță?\n",
    "nr_resp_remote = df[df.RemoteWork == 'Remote'].shape[0]\n",
    "print(f'Câți respondenți lucrează de la distanță?: {nr_resp_remote}')"
   ]
  },
  {
   "cell_type": "code",
   "execution_count": 53,
   "id": "fe614fab-f998-49eb-951d-965d60104838",
   "metadata": {},
   "outputs": [
    {
     "name": "stdout",
     "output_type": "stream",
     "text": [
      "Ce procent de respondenți programează în Python?: 0.47\n"
     ]
    }
   ],
   "source": [
    "# 5.Ce procent de respondenți programează în Python?\n",
    "df['worked_with_python'] = df.LanguageHaveWorkedWith.str.contains('python', case=False,na=False)\n",
    "perc_python = round(df.worked_with_python.sum() / df.ResponseId.nunique(), 2)\n",
    "print(f'Ce procent de respondenți programează în Python?: {perc_python}')"
   ]
  },
  {
   "cell_type": "code",
   "execution_count": 101,
   "id": "32ca8ea4-1a4b-4d9b-8eff-75b68a3d603c",
   "metadata": {},
   "outputs": [
    {
     "name": "stdout",
     "output_type": "stream",
     "text": [
      "Câți respondenți au învățat să programeze prin cursuri online? 30271\n"
     ]
    }
   ],
   "source": [
    "# 6.Câți respondenți au învățat să programeze prin cursuri online?\n",
    "df['learned_with_online_courses'] = df.LearnCode.str.contains('online courses', case=False,na=False)\n",
    "resp_online_courses = df.learned_with_online_courses.sum()\n",
    "print(f'Câți respondenți au învățat să programeze prin cursuri online? {resp_online_courses}')"
   ]
  },
  {
   "cell_type": "code",
   "execution_count": 87,
   "id": "54f9a358-0c84-4be8-80e2-50178b93bb3f",
   "metadata": {},
   "outputs": [
    {
     "name": "stdout",
     "output_type": "stream",
     "text": [
      "                                               mean    median\n",
      "Country                                                      \n",
      "Afghanistan                             4543.000000    4768.5\n",
      "Albania                                56295.000000   56295.0\n",
      "Algeria                                 9053.285714    6230.0\n",
      "Andorra                               193331.000000  193331.0\n",
      "Angola                                     6.000000       6.0\n",
      "...                                             ...       ...\n",
      "Venezuela, Bolivarian Republic of...   21500.000000    7100.0\n",
      "Viet Nam                               14014.562500   10180.0\n",
      "Yemen                                  10297.333333    5333.0\n",
      "Zambia                                 28123.666667   22803.0\n",
      "Zimbabwe                               37500.000000   18000.0\n",
      "\n",
      "[173 rows x 2 columns]\n"
     ]
    }
   ],
   "source": [
    "# 7.Dintre respondenții care programează în Python, grupați pe țări, care este valoarea medie și mediană a remunerației (ConvertedCompYearly) în fiecare țară?\n",
    "python_progr = df[df['LanguageHaveWorkedWith'].str.contains('Python', case=False, na=False)]\n",
    "# Calculam valoarea mediei si medianei a remuneratiei, grupate pe tara\n",
    "py_salary_stats = python_progr.groupby('Country')['ConvertedCompYearly'].agg(['mean','median'])\n",
    "print(py_salary_stats)"
   ]
  },
  {
   "cell_type": "code",
   "execution_count": 91,
   "id": "2caf8788-5896-4d35-b0d1-aaa08192ccbb",
   "metadata": {},
   "outputs": [
    {
     "name": "stdout",
     "output_type": "stream",
     "text": [
      "Ce nivel de educație au cei 5 respondenți cu cea mai mare compensație?:        ResponseId                                         EdLevel  \\\n",
      "15837       15838    Bachelor’s degree (B.A., B.S., B.Eng., etc.)   \n",
      "12723       12724  Professional degree (JD, MD, Ph.D, Ed.D, etc.)   \n",
      "28379       28380  Professional degree (JD, MD, Ph.D, Ed.D, etc.)   \n",
      "17593       17594    Bachelor’s degree (B.A., B.S., B.Eng., etc.)   \n",
      "17672       17673  Professional degree (JD, MD, Ph.D, Ed.D, etc.)   \n",
      "\n",
      "       ConvertedCompYearly  \n",
      "15837           16256603.0  \n",
      "12723           13818022.0  \n",
      "28379            9000000.0  \n",
      "17593            6340564.0  \n",
      "17672            4936778.0  \n"
     ]
    }
   ],
   "source": [
    "#8.Ce nivel de educație au cei 5 respondenți cu cea mai mare compensație?\n",
    "resp_education_renum = df[['ResponseId', 'EdLevel', 'ConvertedCompYearly']].sort_values(by='ConvertedCompYearly', ascending=False).head(5)\n",
    "print(f'Ce nivel de educație au cei 5 respondenți cu cea mai mare compensație?: {resp_education_renum}')"
   ]
  },
  {
   "cell_type": "code",
   "execution_count": 99,
   "id": "3e88412d-9404-4a1b-a2ba-e5bcfda400ce",
   "metadata": {},
   "outputs": [
    {
     "data": {
      "text/html": [
       "<div>\n",
       "<style scoped>\n",
       "    .dataframe tbody tr th:only-of-type {\n",
       "        vertical-align: middle;\n",
       "    }\n",
       "\n",
       "    .dataframe tbody tr th {\n",
       "        vertical-align: top;\n",
       "    }\n",
       "\n",
       "    .dataframe thead th {\n",
       "        text-align: right;\n",
       "    }\n",
       "</style>\n",
       "<table border=\"1\" class=\"dataframe\">\n",
       "  <thead>\n",
       "    <tr style=\"text-align: right;\">\n",
       "      <th></th>\n",
       "      <th>Age</th>\n",
       "      <th>ResponseId</th>\n",
       "      <th>worked_with_python</th>\n",
       "      <th>work_with_python_share</th>\n",
       "    </tr>\n",
       "  </thead>\n",
       "  <tbody>\n",
       "    <tr>\n",
       "      <th>0</th>\n",
       "      <td>18-24 years old</td>\n",
       "      <td>14098</td>\n",
       "      <td>7884</td>\n",
       "      <td>0.56</td>\n",
       "    </tr>\n",
       "    <tr>\n",
       "      <th>1</th>\n",
       "      <td>25-34 years old</td>\n",
       "      <td>23911</td>\n",
       "      <td>10945</td>\n",
       "      <td>0.46</td>\n",
       "    </tr>\n",
       "    <tr>\n",
       "      <th>2</th>\n",
       "      <td>35-44 years old</td>\n",
       "      <td>14942</td>\n",
       "      <td>6204</td>\n",
       "      <td>0.42</td>\n",
       "    </tr>\n",
       "    <tr>\n",
       "      <th>3</th>\n",
       "      <td>45-54 years old</td>\n",
       "      <td>6249</td>\n",
       "      <td>2619</td>\n",
       "      <td>0.42</td>\n",
       "    </tr>\n",
       "    <tr>\n",
       "      <th>4</th>\n",
       "      <td>55-64 years old</td>\n",
       "      <td>2575</td>\n",
       "      <td>1041</td>\n",
       "      <td>0.40</td>\n",
       "    </tr>\n",
       "    <tr>\n",
       "      <th>5</th>\n",
       "      <td>65 years or older</td>\n",
       "      <td>772</td>\n",
       "      <td>290</td>\n",
       "      <td>0.38</td>\n",
       "    </tr>\n",
       "    <tr>\n",
       "      <th>6</th>\n",
       "      <td>Prefer not to say</td>\n",
       "      <td>322</td>\n",
       "      <td>146</td>\n",
       "      <td>0.45</td>\n",
       "    </tr>\n",
       "    <tr>\n",
       "      <th>7</th>\n",
       "      <td>Under 18 years old</td>\n",
       "      <td>2568</td>\n",
       "      <td>1666</td>\n",
       "      <td>0.65</td>\n",
       "    </tr>\n",
       "  </tbody>\n",
       "</table>\n",
       "</div>"
      ],
      "text/plain": [
       "                  Age  ResponseId  worked_with_python  work_with_python_share\n",
       "0     18-24 years old       14098                7884                    0.56\n",
       "1     25-34 years old       23911               10945                    0.46\n",
       "2     35-44 years old       14942                6204                    0.42\n",
       "3     45-54 years old        6249                2619                    0.42\n",
       "4     55-64 years old        2575                1041                    0.40\n",
       "5   65 years or older         772                 290                    0.38\n",
       "6   Prefer not to say         322                 146                    0.45\n",
       "7  Under 18 years old        2568                1666                    0.65"
      ]
     },
     "execution_count": 99,
     "metadata": {},
     "output_type": "execute_result"
    }
   ],
   "source": [
    "# Bonus 1.În fiecare grupă de vârstă, ce procent de respondenți programează în Python?\n",
    "py_progers_share_by_age = df.groupby('Age', as_index=False).agg({'ResponseId': 'count', 'worked_with_python': 'sum'})\n",
    "py_progers_share_by_age['work_with_python_share'] = round(py_progers_share_by_age.worked_with_python / py_progers_share_by_age.ResponseId, 2)\n",
    "py_progers_share_by_age"
   ]
  },
  {
   "cell_type": "code",
   "execution_count": 95,
   "id": "04aeb57a-9292-4fca-a723-39da779ef0e4",
   "metadata": {},
   "outputs": [
    {
     "data": {
      "text/html": [
       "<div>\n",
       "<style scoped>\n",
       "    .dataframe tbody tr th:only-of-type {\n",
       "        vertical-align: middle;\n",
       "    }\n",
       "\n",
       "    .dataframe tbody tr th {\n",
       "        vertical-align: top;\n",
       "    }\n",
       "\n",
       "    .dataframe thead th {\n",
       "        text-align: right;\n",
       "    }\n",
       "</style>\n",
       "<table border=\"1\" class=\"dataframe\">\n",
       "  <thead>\n",
       "    <tr style=\"text-align: right;\">\n",
       "      <th></th>\n",
       "      <th>Industry</th>\n",
       "      <th>count</th>\n",
       "    </tr>\n",
       "  </thead>\n",
       "  <tbody>\n",
       "    <tr>\n",
       "      <th>0</th>\n",
       "      <td>Software Development</td>\n",
       "      <td>768</td>\n",
       "    </tr>\n",
       "    <tr>\n",
       "      <th>1</th>\n",
       "      <td>Other:</td>\n",
       "      <td>239</td>\n",
       "    </tr>\n",
       "    <tr>\n",
       "      <th>2</th>\n",
       "      <td>Healthcare</td>\n",
       "      <td>156</td>\n",
       "    </tr>\n",
       "    <tr>\n",
       "      <th>3</th>\n",
       "      <td>Fintech</td>\n",
       "      <td>156</td>\n",
       "    </tr>\n",
       "    <tr>\n",
       "      <th>4</th>\n",
       "      <td>Internet, Telecomm or Information Services</td>\n",
       "      <td>145</td>\n",
       "    </tr>\n",
       "    <tr>\n",
       "      <th>5</th>\n",
       "      <td>Retail and Consumer Services</td>\n",
       "      <td>106</td>\n",
       "    </tr>\n",
       "    <tr>\n",
       "      <th>6</th>\n",
       "      <td>Media &amp; Advertising Services</td>\n",
       "      <td>103</td>\n",
       "    </tr>\n",
       "    <tr>\n",
       "      <th>7</th>\n",
       "      <td>Banking/Financial Services</td>\n",
       "      <td>69</td>\n",
       "    </tr>\n",
       "    <tr>\n",
       "      <th>8</th>\n",
       "      <td>Government</td>\n",
       "      <td>69</td>\n",
       "    </tr>\n",
       "    <tr>\n",
       "      <th>9</th>\n",
       "      <td>Computer Systems Design and Services</td>\n",
       "      <td>69</td>\n",
       "    </tr>\n",
       "    <tr>\n",
       "      <th>10</th>\n",
       "      <td>Transportation, or Supply Chain</td>\n",
       "      <td>67</td>\n",
       "    </tr>\n",
       "    <tr>\n",
       "      <th>11</th>\n",
       "      <td>Insurance</td>\n",
       "      <td>50</td>\n",
       "    </tr>\n",
       "    <tr>\n",
       "      <th>12</th>\n",
       "      <td>Manufacturing</td>\n",
       "      <td>48</td>\n",
       "    </tr>\n",
       "    <tr>\n",
       "      <th>13</th>\n",
       "      <td>Higher Education</td>\n",
       "      <td>42</td>\n",
       "    </tr>\n",
       "    <tr>\n",
       "      <th>14</th>\n",
       "      <td>Energy</td>\n",
       "      <td>36</td>\n",
       "    </tr>\n",
       "  </tbody>\n",
       "</table>\n",
       "</div>"
      ],
      "text/plain": [
       "                                      Industry  count\n",
       "0                         Software Development    768\n",
       "1                                       Other:    239\n",
       "2                                   Healthcare    156\n",
       "3                                      Fintech    156\n",
       "4   Internet, Telecomm or Information Services    145\n",
       "5                 Retail and Consumer Services    106\n",
       "6                 Media & Advertising Services    103\n",
       "7                   Banking/Financial Services     69\n",
       "8                                   Government     69\n",
       "9         Computer Systems Design and Services     69\n",
       "10             Transportation, or Supply Chain     67\n",
       "11                                   Insurance     50\n",
       "12                               Manufacturing     48\n",
       "13                            Higher Education     42\n",
       "14                                      Energy     36"
      ]
     },
     "execution_count": 95,
     "metadata": {},
     "output_type": "execute_result"
    }
   ],
   "source": [
    "#Bonus 2. În rândul respondenților din a 75-a percentilă a remunerației medii care lucrează de la distanță, care sunt cele mai frecvente industrii?\n",
    "df[(df.ConvertedCompYearly > df.ConvertedCompYearly.quantile(0.75)) & (df.RemoteWork == 'Remote')].Industry.value_counts().reset_index()"
   ]
  },
  {
   "cell_type": "code",
   "execution_count": null,
   "id": "fceb9bf7-40c8-46b9-b71b-f709c78c5112",
   "metadata": {},
   "outputs": [],
   "source": []
  }
 ],
 "metadata": {
  "kernelspec": {
   "display_name": "Python [conda env:base] *",
   "language": "python",
   "name": "conda-base-py"
  },
  "language_info": {
   "codemirror_mode": {
    "name": "ipython",
    "version": 3
   },
   "file_extension": ".py",
   "mimetype": "text/x-python",
   "name": "python",
   "nbconvert_exporter": "python",
   "pygments_lexer": "ipython3",
   "version": "3.12.7"
  }
 },
 "nbformat": 4,
 "nbformat_minor": 5
}
