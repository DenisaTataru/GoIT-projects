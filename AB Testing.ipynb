{
 "cells": [
  {
   "cell_type": "code",
   "execution_count": 37,
   "id": "bc8759dc-4726-4c1b-83bf-d1fccb227173",
   "metadata": {},
   "outputs": [],
   "source": [
    "import pandas as pd \n",
    "from scipy import stats\n",
    "import matplotlib.pyplot as plt\n",
    "import seaborn as sns\n",
    "data = pd.read_csv(\"C:/Users/vladt/Downloads/document.csv\")"
   ]
  },
  {
   "cell_type": "code",
   "execution_count": 39,
   "id": "5924ceb8-081b-4ac5-8bec-b6ab67154351",
   "metadata": {},
   "outputs": [
    {
     "data": {
      "text/html": [
       "<div>\n",
       "<style scoped>\n",
       "    .dataframe tbody tr th:only-of-type {\n",
       "        vertical-align: middle;\n",
       "    }\n",
       "\n",
       "    .dataframe tbody tr th {\n",
       "        vertical-align: top;\n",
       "    }\n",
       "\n",
       "    .dataframe thead th {\n",
       "        text-align: right;\n",
       "    }\n",
       "</style>\n",
       "<table border=\"1\" class=\"dataframe\">\n",
       "  <thead>\n",
       "    <tr style=\"text-align: right;\">\n",
       "      <th></th>\n",
       "      <th>user_id</th>\n",
       "      <th>timestamp</th>\n",
       "      <th>test_group</th>\n",
       "      <th>conversion</th>\n",
       "    </tr>\n",
       "  </thead>\n",
       "  <tbody>\n",
       "    <tr>\n",
       "      <th>0</th>\n",
       "      <td>7f6833e6-1141-4f20-b4b2-f1e31019b1fd</td>\n",
       "      <td>2023-07-04 04:40:55.848109</td>\n",
       "      <td>a</td>\n",
       "      <td>0</td>\n",
       "    </tr>\n",
       "    <tr>\n",
       "      <th>1</th>\n",
       "      <td>e6a6e960-d3f3-4074-a516-ba1e609b211e</td>\n",
       "      <td>2023-07-06 00:26:45.486187</td>\n",
       "      <td>b</td>\n",
       "      <td>0</td>\n",
       "    </tr>\n",
       "    <tr>\n",
       "      <th>2</th>\n",
       "      <td>4d3fbfa5-6847-410a-bac2-477f01d5f400</td>\n",
       "      <td>2023-07-10 20:24:33.639464</td>\n",
       "      <td>b</td>\n",
       "      <td>0</td>\n",
       "    </tr>\n",
       "    <tr>\n",
       "      <th>3</th>\n",
       "      <td>361457d9-a044-48f7-981c-d67dc3861679</td>\n",
       "      <td>2023-07-20 07:04:49.957013</td>\n",
       "      <td>b</td>\n",
       "      <td>0</td>\n",
       "    </tr>\n",
       "    <tr>\n",
       "      <th>4</th>\n",
       "      <td>285cd63d-7d03-427f-a062-1fa2dd2e77d6</td>\n",
       "      <td>2023-07-19 23:27:50.116680</td>\n",
       "      <td>b</td>\n",
       "      <td>0</td>\n",
       "    </tr>\n",
       "  </tbody>\n",
       "</table>\n",
       "</div>"
      ],
      "text/plain": [
       "                                user_id                   timestamp  \\\n",
       "0  7f6833e6-1141-4f20-b4b2-f1e31019b1fd  2023-07-04 04:40:55.848109   \n",
       "1  e6a6e960-d3f3-4074-a516-ba1e609b211e  2023-07-06 00:26:45.486187   \n",
       "2  4d3fbfa5-6847-410a-bac2-477f01d5f400  2023-07-10 20:24:33.639464   \n",
       "3  361457d9-a044-48f7-981c-d67dc3861679  2023-07-20 07:04:49.957013   \n",
       "4  285cd63d-7d03-427f-a062-1fa2dd2e77d6  2023-07-19 23:27:50.116680   \n",
       "\n",
       "  test_group  conversion  \n",
       "0          a           0  \n",
       "1          b           0  \n",
       "2          b           0  \n",
       "3          b           0  \n",
       "4          b           0  "
      ]
     },
     "execution_count": 39,
     "metadata": {},
     "output_type": "execute_result"
    }
   ],
   "source": [
    "df.head()"
   ]
  },
  {
   "cell_type": "code",
   "execution_count": 83,
   "id": "b5dfbd29-5b55-4bcc-ab7f-af6de3dd6fca",
   "metadata": {},
   "outputs": [
    {
     "name": "stdout",
     "output_type": "stream",
     "text": [
      "Numar utilizatori grup A: 10013\n",
      "Numar utilizatori grup B: 9985\n"
     ]
    }
   ],
   "source": [
    "# Numărul de utilizatori în grupurile A și B, respectiv\n",
    "group_counts = data['test_group'].value_counts()\n",
    "num_users_a = group_counts.get('a', 0)\n",
    "num_users_b = group_counts.get('b', 0)\n",
    "\n",
    "print(f\"Numar utilizatori grup A: {num_users_a}\")\n",
    "\n",
    "print(f\"Numar utilizatori grup B: {num_users_b}\")"
   ]
  },
  {
   "cell_type": "code",
   "execution_count": 85,
   "id": "8823939b-5b4c-4834-b024-7c1523025f3a",
   "metadata": {},
   "outputs": [
    {
     "name": "stdout",
     "output_type": "stream",
     "text": [
      "Numar conversii grup A: 611\n",
      "Numar conversii grup B: 889\n"
     ]
    }
   ],
   "source": [
    "# Numărul de conversii în grupurile A și B, respectiv;\n",
    "conversion_counts = data.groupby('test_group')['conversion'].sum()\n",
    "num_conversions_a = conversion_counts.get('a', 0)\n",
    "num_conversions_b = conversion_counts.get('b', 0)\n",
    "\n",
    "print(f\"Numar conversii grup A: {num_conversions_a}\")\n",
    "print(f\"Numar conversii grup B: {num_conversions_b}\")"
   ]
  },
  {
   "cell_type": "code",
   "execution_count": 87,
   "id": "01b23532-0503-4951-8b1f-2a2e7e6a4e2a",
   "metadata": {},
   "outputs": [
    {
     "name": "stdout",
     "output_type": "stream",
     "text": [
      "Rata de converrsie grup A: 6.10%\n",
      "Rata de converrsie grup B: 8.90%\n"
     ]
    }
   ],
   "source": [
    "# Rata de conversie în grupurile A și B, respectiv\n",
    "conversion_rates = (conversion_counts / group_counts) * 100\n",
    "rate_conversion_a = conversion_rates.get('a', 0)\n",
    "rate_conversion_b = conversion_rates.get('b', 0)\n",
    "\n",
    "print(f'Rata de converrsie grup A: {rate_conversion_a:.2f}%')\n",
    "print(f'Rata de converrsie grup B: {rate_conversion_b:.2f}%')"
   ]
  },
  {
   "cell_type": "code",
   "execution_count": 89,
   "id": "1ba8f867-391e-443d-a5ae-3a78e9332a71",
   "metadata": {},
   "outputs": [
    {
     "name": "stdout",
     "output_type": "stream",
     "text": [
      "Data de inceput a testului: 2023-07-03 01:42:34.033708\n",
      "Data de sfarsit a testului: 2023-07-25 01:41:19.152664\n",
      "Durata testului: 21 zile\n"
     ]
    }
   ],
   "source": [
    "# Data de început și data de sfârșit a testului, împreună cu durata acestuia în zile\n",
    "data['timestamp'] = pd.to_datetime(data['timestamp'])\n",
    "test_start = data['timestamp'].min()\n",
    "test_end = data['timestamp'].max()\n",
    "test_duration = (test_end - test_start).days\n",
    "\n",
    "print(f'Data de inceput a testului: {test_start}')\n",
    "print(f'Data de sfarsit a testului: {test_end}')\n",
    "print(f'Durata testului: {test_duration} zile')"
   ]
  },
  {
   "cell_type": "code",
   "execution_count": 91,
   "id": "a60a8302-185d-450e-83bc-5914a5d9954a",
   "metadata": {},
   "outputs": [
    {
     "name": "stdout",
     "output_type": "stream",
     "text": [
      "t-statistic: -7.53, p-value: 0.0\n",
      "Diferenta este semnificativa dpdv statistic, H0 este respinsa.\n"
     ]
    }
   ],
   "source": [
    "# Alege un criteriu statistic pentru a testa ipotezele și calcula statistica și p-value. Verifică dacă putem respinge ipoteza nulă. Nu uita să precizezi ce criteriu folosești.\n",
    "alpha = 0.05\n",
    "t_statistic, p_value = stats.ttest_ind(df[df['test_group'] == 'a']['conversion'],\n",
    "                                       df[df['test_group'] == 'b']['conversion'])                                       \n",
    "print(f't-statistic: {round(t_statistic, 2)}, p-value: {round(p_value, 2)}')\n",
    "if p_value < alpha:\n",
    "    print('Diferenta este semnificativa dpdv statistic, H0 este respinsa.')\n",
    "else:\n",
    "    print('Diferenta nu este semnificativa dpdv statistic, H0 este acceptata.')\n",
    "                                       "
   ]
  },
  {
   "cell_type": "code",
   "execution_count": 93,
   "id": "1df29e86-49be-4af3-9bc4-5dec2fbdc70a",
   "metadata": {},
   "outputs": [],
   "source": [
    "# Definirea variabilelor\n",
    "x = df[df['test_group'] == 'a']['conversion']\n",
    "y = df[df['test_group'] == 'b']['conversion']"
   ]
  },
  {
   "cell_type": "code",
   "execution_count": 95,
   "id": "bebac78f-3891-4613-98bc-3b238c1ef379",
   "metadata": {},
   "outputs": [
    {
     "data": {
      "image/png": "[encoded data removed]",
      "text/plain": [
       "<Figure size 800x600 with 1 Axes>"
      ]
     },
     "metadata": {},
     "output_type": "display_data"
    }
   ],
   "source": [
    "# Plotarea graficului \n",
    "plt.figure(figsize=(8, 6))\n",
    "sns.barplot(x=df['test_group'],\n",
    "            y=df['conversion'],\n",
    "            errorbar=('ci', 95),color='blue') # Confidence Intervals\n",
    "\n",
    "plt.title('A/B Test Results')\n",
    "plt.xlabel('Group')\n",
    "plt.ylabel('Mean')\n",
    "           \n",
    "plt.show()"
   ]
  },
  {
   "cell_type": "code",
   "execution_count": null,
   "id": "ac596ef4-3981-43cc-9d28-d36a5482cc40",
   "metadata": {},
   "outputs": [],
   "source": []
  }
 ],
 "metadata": {
  "kernelspec": {
   "display_name": "Python [conda env:base] *",
   "language": "python",
   "name": "conda-base-py"
  },
  "language_info": {
   "codemirror_mode": {
    "name": "ipython",
    "version": 3
   },
   "file_extension": ".py",
   "mimetype": "text/x-python",
   "name": "python",
   "nbconvert_exporter": "python",
   "pygments_lexer": "ipython3",
   "version": "3.12.7"
  }
 },
 "nbformat": 4,
 "nbformat_minor": 5
}
