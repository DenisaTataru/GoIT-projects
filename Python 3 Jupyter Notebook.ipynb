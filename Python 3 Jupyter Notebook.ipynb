{
 "cells": [
  {
   "cell_type": "code",
   "execution_count": 68,
   "id": "df9c00af-88fa-4f6f-9f83-57bad78fd9df",
   "metadata": {},
   "outputs": [],
   "source": [
    "import pandas as pd\n",
    "import seaborn as sns\n",
    "app = pd.read_csv('C:/Users/vladt/Downloads/applications.csv')\n",
    "ind = pd.read_csv('C:/Users/vladt/Downloads/industries.csv')"
   ]
  },
  {
   "cell_type": "code",
   "execution_count": 70,
   "id": "8ea8655d-c47a-4acd-a694-b1accaa06220",
   "metadata": {},
   "outputs": [
    {
     "name": "stdout",
     "output_type": "stream",
     "text": [
      "            Applied at   Amount  Age  Gender                      Industry  \\\n",
      "0  11.30.2022 10:26:37  12000.0   29    Male                    Blockchain   \n",
      "1  11.30.2022 10:26:39      NaN   36    Male  Public services / Government   \n",
      "2  11.30.2022 10:26:58   7500.0   34    Male          Adtech / Advertising   \n",
      "3  11.30.2022 10:27:31   1500.0   23  Female                       Telecom   \n",
      "4  11.30.2022 10:27:34   8400.0   33  Female                    Automotive   \n",
      "\n",
      "  Marital status  External Rating  \\\n",
      "0          Other              8.0   \n",
      "1         Single              3.0   \n",
      "2         Single              4.0   \n",
      "3         Single              0.0   \n",
      "4         Single              6.0   \n",
      "\n",
      "                                     Education level         Location  \\\n",
      "0  Higher Degree (bachelor's, specialist's, maste...    Spain, Madrid   \n",
      "1  Higher Degree (bachelor's, specialist's, maste...              NaN   \n",
      "2  Higher Degree (bachelor's, specialist's, maste...   Poland, Warsaw   \n",
      "3  Higher Degree (bachelor's, specialist's, maste...  Germany, Berlin   \n",
      "4  Higher Degree (bachelor's, specialist's, maste...  Bulgaria, Sofia   \n",
      "\n",
      "                       applicant_id  \n",
      "0  99e7b0dc6cc05dd334d8f38dc26ce9b3  \n",
      "1  63dfcf8e6904186650d6814279fbe42f  \n",
      "2  10dbafaeb46c09e96b6987c03bbb3498  \n",
      "3  5847ac62cc9eac5e323c2517dcc91ad1  \n",
      "4  5d21f3795b50de8e8f8f8d5f48b754f3  \n",
      "                       Industry  Score\n",
      "0                    Blockchain      0\n",
      "1  Public services / Government     20\n",
      "2          Adtech / Advertising     10\n",
      "3                       Telecom     15\n",
      "4                    Automotive     15\n"
     ]
    }
   ],
   "source": [
    "# Primele 5 valori\n",
    "print(app.head())\n",
    "print(ind.head())"
   ]
  },
  {
   "cell_type": "code",
   "execution_count": 102,
   "id": "f73f024e-9220-49f3-965f-0ba9829bd1d3",
   "metadata": {},
   "outputs": [],
   "source": [
    "# Elimina duplicatele din coloana applicant_id;\n",
    "app = app.drop_duplicates(subset='applicant_id')"
   ]
  },
  {
   "cell_type": "code",
   "execution_count": 104,
   "id": "3f0d910a-7561-4bc5-abc3-a7d12fb5fe02",
   "metadata": {},
   "outputs": [],
   "source": [
    "# În câmpul External Rating, completează valorile lipsă cu zero\n",
    "app['External Rating'] = app['External Rating'].fillna(0)"
   ]
  },
  {
   "cell_type": "code",
   "execution_count": 106,
   "id": "8895f62a-629c-4954-9226-ea93e8e4ce6e",
   "metadata": {},
   "outputs": [],
   "source": [
    "# În câmpul Education level, completează valorile lipsă cu textul \"Average\";\n",
    "app['Education level'] = app['Education level'].fillna('Average')"
   ]
  },
  {
   "cell_type": "code",
   "execution_count": 78,
   "id": "1c2931b2-50fa-4c02-a8ce-a92d4f51041a",
   "metadata": {},
   "outputs": [
    {
     "name": "stdout",
     "output_type": "stream",
     "text": [
      "                       Industry  Industry Score\n",
      "0                    Blockchain               0\n",
      "1  Public services / Government              20\n",
      "2          Adtech / Advertising              10\n",
      "3                       Telecom              15\n",
      "4                    Automotive              15\n",
      "            Applied at   Amount  Age  Gender                      Industry  \\\n",
      "0  11.30.2022 10:26:37  12000.0   29    Male                    Blockchain   \n",
      "1  11.30.2022 10:26:39      NaN   36    Male  Public services / Government   \n",
      "2  11.30.2022 10:26:58   7500.0   34    Male          Adtech / Advertising   \n",
      "3  11.30.2022 10:27:31   1500.0   23  Female                       Telecom   \n",
      "4  11.30.2022 10:27:34   8400.0   33  Female                    Automotive   \n",
      "\n",
      "  Marital status  External Rating  \\\n",
      "0          Other              8.0   \n",
      "1         Single              3.0   \n",
      "2         Single              4.0   \n",
      "3         Single              0.0   \n",
      "4         Single              6.0   \n",
      "\n",
      "                                     Education level         Location  \\\n",
      "0  Higher Degree (bachelor's, specialist's, maste...    Spain, Madrid   \n",
      "1  Higher Degree (bachelor's, specialist's, maste...              NaN   \n",
      "2  Higher Degree (bachelor's, specialist's, maste...   Poland, Warsaw   \n",
      "3  Higher Degree (bachelor's, specialist's, maste...  Germany, Berlin   \n",
      "4  Higher Degree (bachelor's, specialist's, maste...  Bulgaria, Sofia   \n",
      "\n",
      "                       applicant_id  Industry Score  \n",
      "0  99e7b0dc6cc05dd334d8f38dc26ce9b3               0  \n",
      "1  63dfcf8e6904186650d6814279fbe42f              20  \n",
      "2  10dbafaeb46c09e96b6987c03bbb3498              10  \n",
      "3  5847ac62cc9eac5e323c2517dcc91ad1              15  \n",
      "4  5d21f3795b50de8e8f8f8d5f48b754f3              15  \n"
     ]
    }
   ],
   "source": [
    "# Adaugă datele din fișierul industries.csv în acest DataFrame, respectiv, evaluările industriilor.\n",
    "ind=ind.rename(columns={'Score': 'Industry Score'})\n",
    "print(ind.head())\n",
    "df= pd.merge(app, ind)\n",
    "print(df.head())"
   ]
  },
  {
   "cell_type": "code",
   "execution_count": 80,
   "id": "77fbfbb8-799a-44f0-a850-7443d1d7a493",
   "metadata": {},
   "outputs": [],
   "source": [
    "# Calculează evaluarea cererii conform următoarelor condiții:\n",
    "  # Evaluarea trebuie să fie un număr între 0 și 100;\n",
    "  # Evaluarea este suma scorurilor pentru cele 6 criterii;\n",
    "  # Evaluarea este zero dacă nu există valoarea Amount sau dacă External Rating este zero.\n",
    "  # Dacă vârsta aplicantului este între 35 și 55 de ani, se adaugă 20 de puncte la evaluare.\n",
    "  # Dacă aplicația a fost depusă în weekend, se adaugă 20 de puncte la evaluare.\n",
    "  #  Dacă aplicantul este căsătorit, se adaugă 20 de puncte la evaluare.\n",
    "  # Dacă aplicantul este localizat în Kyiv sau în regiune, se adaugă 10 puncte la evaluare.\n",
    "  # Valoarea Score din tabelul industries.csv este de asemenea adăugată la cerere (și variază între 0 și 20 de puncte).\n",
    "  # Dacă External Rating este mai mare sau egal cu 7, se adaugă 20 de puncte la evaluare.\n",
    "  # Dacă External Rating este mai mic sau egal cu 2, se scad 20 de puncte din evaluare."
   ]
  },
  {
   "cell_type": "code",
   "execution_count": 82,
   "id": "32b14a36-36d3-4665-a8c9-070a784ecfae",
   "metadata": {},
   "outputs": [],
   "source": [
    "# Varsta\n",
    "df['Age'] = df['Age'].astype(int)"
   ]
  },
  {
   "cell_type": "code",
   "execution_count": 84,
   "id": "8b69558c-fa77-435e-9458-fb83973fb7e1",
   "metadata": {},
   "outputs": [],
   "source": [
    "## Data aplicarii\n",
    "df['Applied at'] = pd.to_datetime(df['Applied at'],format='mixed')\n",
    "df['Applied on day'] = df['Applied at'].dt.day_name()"
   ]
  },
  {
   "cell_type": "code",
   "execution_count": 85,
   "id": "03aeeac1-e907-4f63-b4fc-84c4045d436f",
   "metadata": {},
   "outputs": [
    {
     "data": {
      "text/html": [
       "<div>\n",
       "<style scoped>\n",
       "    .dataframe tbody tr th:only-of-type {\n",
       "        vertical-align: middle;\n",
       "    }\n",
       "\n",
       "    .dataframe tbody tr th {\n",
       "        vertical-align: top;\n",
       "    }\n",
       "\n",
       "    .dataframe thead th {\n",
       "        text-align: right;\n",
       "    }\n",
       "</style>\n",
       "<table border=\"1\" class=\"dataframe\">\n",
       "  <thead>\n",
       "    <tr style=\"text-align: right;\">\n",
       "      <th></th>\n",
       "      <th>Applied at</th>\n",
       "      <th>Amount</th>\n",
       "      <th>Age</th>\n",
       "      <th>Gender</th>\n",
       "      <th>Industry</th>\n",
       "      <th>Marital status</th>\n",
       "      <th>External Rating</th>\n",
       "      <th>Education level</th>\n",
       "      <th>Location</th>\n",
       "      <th>applicant_id</th>\n",
       "      <th>Industry Score</th>\n",
       "      <th>Applied on day</th>\n",
       "      <th>Final score</th>\n",
       "    </tr>\n",
       "  </thead>\n",
       "  <tbody>\n",
       "    <tr>\n",
       "      <th>0</th>\n",
       "      <td>2022-11-30 10:26:37</td>\n",
       "      <td>12000.0</td>\n",
       "      <td>29</td>\n",
       "      <td>Male</td>\n",
       "      <td>Blockchain</td>\n",
       "      <td>Other</td>\n",
       "      <td>8.0</td>\n",
       "      <td>Higher Degree (bachelor's, specialist's, maste...</td>\n",
       "      <td>Spain, Madrid</td>\n",
       "      <td>99e7b0dc6cc05dd334d8f38dc26ce9b3</td>\n",
       "      <td>0</td>\n",
       "      <td>Wednesday</td>\n",
       "      <td>30</td>\n",
       "    </tr>\n",
       "    <tr>\n",
       "      <th>1</th>\n",
       "      <td>2022-11-30 10:26:39</td>\n",
       "      <td>NaN</td>\n",
       "      <td>36</td>\n",
       "      <td>Male</td>\n",
       "      <td>Public services / Government</td>\n",
       "      <td>Single</td>\n",
       "      <td>3.0</td>\n",
       "      <td>Higher Degree (bachelor's, specialist's, maste...</td>\n",
       "      <td>NaN</td>\n",
       "      <td>63dfcf8e6904186650d6814279fbe42f</td>\n",
       "      <td>20</td>\n",
       "      <td>Wednesday</td>\n",
       "      <td>0</td>\n",
       "    </tr>\n",
       "    <tr>\n",
       "      <th>2</th>\n",
       "      <td>2022-11-30 10:26:58</td>\n",
       "      <td>7500.0</td>\n",
       "      <td>34</td>\n",
       "      <td>Male</td>\n",
       "      <td>Adtech / Advertising</td>\n",
       "      <td>Single</td>\n",
       "      <td>4.0</td>\n",
       "      <td>Higher Degree (bachelor's, specialist's, maste...</td>\n",
       "      <td>Poland, Warsaw</td>\n",
       "      <td>10dbafaeb46c09e96b6987c03bbb3498</td>\n",
       "      <td>10</td>\n",
       "      <td>Wednesday</td>\n",
       "      <td>20</td>\n",
       "    </tr>\n",
       "    <tr>\n",
       "      <th>3</th>\n",
       "      <td>2022-11-30 10:27:31</td>\n",
       "      <td>1500.0</td>\n",
       "      <td>23</td>\n",
       "      <td>Female</td>\n",
       "      <td>Telecom</td>\n",
       "      <td>Single</td>\n",
       "      <td>0.0</td>\n",
       "      <td>Higher Degree (bachelor's, specialist's, maste...</td>\n",
       "      <td>Germany, Berlin</td>\n",
       "      <td>5847ac62cc9eac5e323c2517dcc91ad1</td>\n",
       "      <td>15</td>\n",
       "      <td>Wednesday</td>\n",
       "      <td>0</td>\n",
       "    </tr>\n",
       "    <tr>\n",
       "      <th>4</th>\n",
       "      <td>2022-11-30 10:27:34</td>\n",
       "      <td>8400.0</td>\n",
       "      <td>33</td>\n",
       "      <td>Female</td>\n",
       "      <td>Automotive</td>\n",
       "      <td>Single</td>\n",
       "      <td>6.0</td>\n",
       "      <td>Higher Degree (bachelor's, specialist's, maste...</td>\n",
       "      <td>Bulgaria, Sofia</td>\n",
       "      <td>5d21f3795b50de8e8f8f8d5f48b754f3</td>\n",
       "      <td>15</td>\n",
       "      <td>Wednesday</td>\n",
       "      <td>25</td>\n",
       "    </tr>\n",
       "  </tbody>\n",
       "</table>\n",
       "</div>"
      ],
      "text/plain": [
       "           Applied at   Amount  Age  Gender                      Industry  \\\n",
       "0 2022-11-30 10:26:37  12000.0   29    Male                    Blockchain   \n",
       "1 2022-11-30 10:26:39      NaN   36    Male  Public services / Government   \n",
       "2 2022-11-30 10:26:58   7500.0   34    Male          Adtech / Advertising   \n",
       "3 2022-11-30 10:27:31   1500.0   23  Female                       Telecom   \n",
       "4 2022-11-30 10:27:34   8400.0   33  Female                    Automotive   \n",
       "\n",
       "  Marital status  External Rating  \\\n",
       "0          Other              8.0   \n",
       "1         Single              3.0   \n",
       "2         Single              4.0   \n",
       "3         Single              0.0   \n",
       "4         Single              6.0   \n",
       "\n",
       "                                     Education level         Location  \\\n",
       "0  Higher Degree (bachelor's, specialist's, maste...    Spain, Madrid   \n",
       "1  Higher Degree (bachelor's, specialist's, maste...              NaN   \n",
       "2  Higher Degree (bachelor's, specialist's, maste...   Poland, Warsaw   \n",
       "3  Higher Degree (bachelor's, specialist's, maste...  Germany, Berlin   \n",
       "4  Higher Degree (bachelor's, specialist's, maste...  Bulgaria, Sofia   \n",
       "\n",
       "                       applicant_id  Industry Score Applied on day  \\\n",
       "0  99e7b0dc6cc05dd334d8f38dc26ce9b3               0      Wednesday   \n",
       "1  63dfcf8e6904186650d6814279fbe42f              20      Wednesday   \n",
       "2  10dbafaeb46c09e96b6987c03bbb3498              10      Wednesday   \n",
       "3  5847ac62cc9eac5e323c2517dcc91ad1              15      Wednesday   \n",
       "4  5d21f3795b50de8e8f8f8d5f48b754f3              15      Wednesday   \n",
       "\n",
       "   Final score  \n",
       "0           30  \n",
       "1            0  \n",
       "2           20  \n",
       "3            0  \n",
       "4           25  "
      ]
     },
     "execution_count": 85,
     "metadata": {},
     "output_type": "execute_result"
    }
   ],
   "source": [
    "# Evaluarea\n",
    "age = ((df['Age'] >= 35) & (df['Age'] <= 55)) * 20\n",
    "day = ~df['Applied on day'].isin(['Saturday', 'Sunday'])*10\n",
    "material = (df['Marital status'] == 'Maried') * 20\n",
    "location = (df['Location'] == 'Kyiv or region') * 10\n",
    "industry = df['Industry Score']\n",
    "positive_rating = (df['External Rating'] >= 7) * 20\n",
    "negative_rating = (df['External Rating'] <= 2) * -20\n",
    "df['Final score'] = day + age + material + location + industry + positive_rating + negative_rating\n",
    "df['Final score'] = df['Final score'] * ~(df['External Rating'] ==0) * ~df['Amount'].isna()\n",
    "df.head()"
   ]
  },
  {
   "cell_type": "code",
   "execution_count": 88,
   "id": "8fbc3128-1d74-4fd0-9cf1-46c6e6e12339",
   "metadata": {},
   "outputs": [
    {
     "name": "stdout",
     "output_type": "stream",
     "text": [
      "           Applied at   Amount  Age  Gender              Industry  \\\n",
      "0 2022-11-30 10:26:37  12000.0   29    Male            Blockchain   \n",
      "2 2022-11-30 10:26:58   7500.0   34    Male  Adtech / Advertising   \n",
      "4 2022-11-30 10:27:34   8400.0   33  Female            Automotive   \n",
      "5 2022-11-30 10:27:38  16500.0   31    Male            E-commerce   \n",
      "7 2022-11-30 10:27:44   3600.0   24    Male            E-commerce   \n",
      "\n",
      "  Marital status  External Rating  \\\n",
      "0          Other              8.0   \n",
      "2         Single              4.0   \n",
      "4         Single              6.0   \n",
      "5         Single              8.0   \n",
      "7        Married              1.0   \n",
      "\n",
      "                                     Education level         Location  \\\n",
      "0  Higher Degree (bachelor's, specialist's, maste...    Spain, Madrid   \n",
      "2  Higher Degree (bachelor's, specialist's, maste...   Poland, Warsaw   \n",
      "4  Higher Degree (bachelor's, specialist's, maste...  Bulgaria, Sofia   \n",
      "5  Higher Degree (bachelor's, specialist's, maste...    Spain, Madrid   \n",
      "7  Higher Degree (bachelor's, specialist's, maste...  Bulgaria, Sofia   \n",
      "\n",
      "                       applicant_id  Industry Score Applied on day  \\\n",
      "0  99e7b0dc6cc05dd334d8f38dc26ce9b3               0      Wednesday   \n",
      "2  10dbafaeb46c09e96b6987c03bbb3498              10      Wednesday   \n",
      "4  5d21f3795b50de8e8f8f8d5f48b754f3              15      Wednesday   \n",
      "5  f720bf9c5c4c3e10a8568c1699847696              15      Wednesday   \n",
      "7  aa54d6e672e4233febadbafdfd048327              15      Wednesday   \n",
      "\n",
      "   Final score  \n",
      "0           30  \n",
      "2           20  \n",
      "4           25  \n",
      "5           45  \n",
      "7            5  \n"
     ]
    }
   ],
   "source": [
    "# În tabelul rezultat, lasă doar cererile cu o evaluare mai mare decât zero, aceste cereri vor fi considerate acceptate.\n",
    "df = df[df['Final score'] > 0]\n",
    "print(df.head())"
   ]
  },
  {
   "cell_type": "code",
   "execution_count": 90,
   "id": "bb70cb70-91db-4b29-90b3-9c2213510c97",
   "metadata": {},
   "outputs": [
    {
     "name": "stdout",
     "output_type": "stream",
     "text": [
      "            Amount  Age  External Rating  Industry Score  Final score\n",
      "Applied at                                                           \n",
      "2022-11-27   10713   30                5              14           31\n",
      "2022-12-04    9663   29                5              14           28\n",
      "2022-12-11    9576   29                5              13           29\n",
      "2022-12-18    9184   30                5              14           28\n",
      "2022-12-25    9010   30                5              13           30\n",
      "Axes(0.125,0.11;0.775x0.77)\n"
     ]
    },
    {
     "data": {
      "image/png": "[encoded data removed]",
      "text/plain": [
       "<Figure size 640x480 with 1 Axes>"
      ]
     },
     "metadata": {},
     "output_type": "display_data"
    }
   ],
   "source": [
    "dfg = df.set_index('Applied at')\n",
    "# Grupează datele din tabelul rezultat în funcție de săptămâna depunerii cererii și afișează evaluarea medie a cererilor acceptate în fiecare săptămână pe grafic.\n",
    "dfg = dfg.resample('W', label='left').mean(numeric_only=True).astype(int)\n",
    "print(dfg.head())\n",
    "sns.set_theme()\n",
    "print(sns.lineplot(data=dfg, x='Applied at', y='Final score'))"
   ]
  }
 ],
 "metadata": {
  "kernelspec": {
   "display_name": "Python [conda env:base] *",
   "language": "python",
   "name": "conda-base-py"
  },
  "language_info": {
   "codemirror_mode": {
    "name": "ipython",
    "version": 3
   },
   "file_extension": ".py",
   "mimetype": "text/x-python",
   "name": "python",
   "nbconvert_exporter": "python",
   "pygments_lexer": "ipython3",
   "version": "3.12.7"
  }
 },
 "nbformat": 4,
 "nbformat_minor": 5
}
